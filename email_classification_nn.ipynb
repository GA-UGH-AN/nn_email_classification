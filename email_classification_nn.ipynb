{
 "cells": [
  {
   "cell_type": "code",
   "execution_count": 188,
   "id": "e47a73bf-8733-46c5-87fd-e84daa365b42",
   "metadata": {},
   "outputs": [],
   "source": [
    "import pandas as pd"
   ]
  },
  {
   "cell_type": "code",
   "execution_count": 189,
   "id": "069844fd-d820-4d57-adb5-7f41f9328584",
   "metadata": {},
   "outputs": [
    {
     "data": {
      "text/html": [
       "<div>\n",
       "<style scoped>\n",
       "    .dataframe tbody tr th:only-of-type {\n",
       "        vertical-align: middle;\n",
       "    }\n",
       "\n",
       "    .dataframe tbody tr th {\n",
       "        vertical-align: top;\n",
       "    }\n",
       "\n",
       "    .dataframe thead th {\n",
       "        text-align: right;\n",
       "    }\n",
       "</style>\n",
       "<table border=\"1\" class=\"dataframe\">\n",
       "  <thead>\n",
       "    <tr style=\"text-align: right;\">\n",
       "      <th></th>\n",
       "      <th>Category</th>\n",
       "      <th>Message</th>\n",
       "    </tr>\n",
       "  </thead>\n",
       "  <tbody>\n",
       "    <tr>\n",
       "      <th>0</th>\n",
       "      <td>ham</td>\n",
       "      <td>Go until jurong point, crazy.. Available only ...</td>\n",
       "    </tr>\n",
       "    <tr>\n",
       "      <th>1</th>\n",
       "      <td>ham</td>\n",
       "      <td>Ok lar... Joking wif u oni...</td>\n",
       "    </tr>\n",
       "    <tr>\n",
       "      <th>2</th>\n",
       "      <td>spam</td>\n",
       "      <td>Free entry in 2 a wkly comp to win FA Cup fina...</td>\n",
       "    </tr>\n",
       "    <tr>\n",
       "      <th>3</th>\n",
       "      <td>ham</td>\n",
       "      <td>U dun say so early hor... U c already then say...</td>\n",
       "    </tr>\n",
       "    <tr>\n",
       "      <th>4</th>\n",
       "      <td>ham</td>\n",
       "      <td>Nah I don't think he goes to usf, he lives aro...</td>\n",
       "    </tr>\n",
       "  </tbody>\n",
       "</table>\n",
       "</div>"
      ],
      "text/plain": [
       "  Category                                            Message\n",
       "0      ham  Go until jurong point, crazy.. Available only ...\n",
       "1      ham                      Ok lar... Joking wif u oni...\n",
       "2     spam  Free entry in 2 a wkly comp to win FA Cup fina...\n",
       "3      ham  U dun say so early hor... U c already then say...\n",
       "4      ham  Nah I don't think he goes to usf, he lives aro..."
      ]
     },
     "execution_count": 189,
     "metadata": {},
     "output_type": "execute_result"
    }
   ],
   "source": [
    "df = pd.read_csv(\"email.csv\")\n",
    "# df_test = pd.read_csv(\"test_emails.csv\")\n",
    "df.head()\n",
    "#Label 1 = spam, Label 0 = ham"
   ]
  },
  {
   "cell_type": "code",
   "execution_count": 190,
   "id": "65594d75-a822-47d2-9cf7-fb5bd60b4fb8",
   "metadata": {},
   "outputs": [
    {
     "data": {
      "text/plain": [
       "3"
      ]
     },
     "execution_count": 190,
     "metadata": {},
     "output_type": "execute_result"
    }
   ],
   "source": [
    "#Check for unique labels. It is expected to be 2, spam and ham\n",
    "df['Category'].nunique()"
   ]
  },
  {
   "cell_type": "code",
   "execution_count": 191,
   "id": "3ed6292e-9ed7-4d89-9a90-c3f5743748b8",
   "metadata": {},
   "outputs": [
    {
     "data": {
      "text/plain": [
       "2"
      ]
     },
     "execution_count": 191,
     "metadata": {},
     "output_type": "execute_result"
    }
   ],
   "source": [
    "#Remove unexpected labels\n",
    "df.Category = df.Category[(df.Category == 'ham') | (df.Category == 'spam')]\n",
    "df.Category.nunique()"
   ]
  },
  {
   "cell_type": "code",
   "execution_count": 192,
   "id": "f690d942-5861-477e-a64f-785e22147820",
   "metadata": {},
   "outputs": [
    {
     "data": {
      "text/plain": [
       "Category     True\n",
       "Message     False\n",
       "dtype: bool"
      ]
     },
     "execution_count": 192,
     "metadata": {},
     "output_type": "execute_result"
    }
   ],
   "source": [
    "#Checking for Null Values\n",
    "df.isna().any()"
   ]
  },
  {
   "cell_type": "code",
   "execution_count": 193,
   "id": "45aef8fd-e8e8-4930-a1e3-2dee74db4346",
   "metadata": {},
   "outputs": [
    {
     "data": {
      "text/plain": [
       "Category    False\n",
       "Message     False\n",
       "dtype: bool"
      ]
     },
     "execution_count": 193,
     "metadata": {},
     "output_type": "execute_result"
    }
   ],
   "source": [
    "#Remove Null Values\n",
    "df = df.dropna()\n",
    "df.isna().any()"
   ]
  },
  {
   "cell_type": "code",
   "execution_count": 194,
   "id": "2cd53169-cd1c-4c5d-878b-bbb6d0a68b46",
   "metadata": {},
   "outputs": [
    {
     "data": {
      "text/html": [
       "<div>\n",
       "<style scoped>\n",
       "    .dataframe tbody tr th:only-of-type {\n",
       "        vertical-align: middle;\n",
       "    }\n",
       "\n",
       "    .dataframe tbody tr th {\n",
       "        vertical-align: top;\n",
       "    }\n",
       "\n",
       "    .dataframe thead tr th {\n",
       "        text-align: left;\n",
       "    }\n",
       "\n",
       "    .dataframe thead tr:last-of-type th {\n",
       "        text-align: right;\n",
       "    }\n",
       "</style>\n",
       "<table border=\"1\" class=\"dataframe\">\n",
       "  <thead>\n",
       "    <tr>\n",
       "      <th></th>\n",
       "      <th colspan=\"4\" halign=\"left\">Message</th>\n",
       "    </tr>\n",
       "    <tr>\n",
       "      <th></th>\n",
       "      <th>count</th>\n",
       "      <th>unique</th>\n",
       "      <th>top</th>\n",
       "      <th>freq</th>\n",
       "    </tr>\n",
       "    <tr>\n",
       "      <th>Category</th>\n",
       "      <th></th>\n",
       "      <th></th>\n",
       "      <th></th>\n",
       "      <th></th>\n",
       "    </tr>\n",
       "  </thead>\n",
       "  <tbody>\n",
       "    <tr>\n",
       "      <th>ham</th>\n",
       "      <td>4825</td>\n",
       "      <td>4516</td>\n",
       "      <td>Sorry, I'll call later</td>\n",
       "      <td>30</td>\n",
       "    </tr>\n",
       "    <tr>\n",
       "      <th>spam</th>\n",
       "      <td>747</td>\n",
       "      <td>641</td>\n",
       "      <td>Please call our customer service representativ...</td>\n",
       "      <td>4</td>\n",
       "    </tr>\n",
       "  </tbody>\n",
       "</table>\n",
       "</div>"
      ],
      "text/plain": [
       "         Message                                                            \\\n",
       "           count unique                                                top   \n",
       "Category                                                                     \n",
       "ham         4825   4516                             Sorry, I'll call later   \n",
       "spam         747    641  Please call our customer service representativ...   \n",
       "\n",
       "               \n",
       "         freq  \n",
       "Category       \n",
       "ham        30  \n",
       "spam        4  "
      ]
     },
     "execution_count": 194,
     "metadata": {},
     "output_type": "execute_result"
    }
   ],
   "source": [
    "df.groupby(\"Category\").describe()"
   ]
  },
  {
   "cell_type": "code",
   "execution_count": 195,
   "id": "d131f10e-7018-42c4-9024-314be599fe3b",
   "metadata": {},
   "outputs": [
    {
     "data": {
      "text/html": [
       "<div>\n",
       "<style scoped>\n",
       "    .dataframe tbody tr th:only-of-type {\n",
       "        vertical-align: middle;\n",
       "    }\n",
       "\n",
       "    .dataframe tbody tr th {\n",
       "        vertical-align: top;\n",
       "    }\n",
       "\n",
       "    .dataframe thead th {\n",
       "        text-align: right;\n",
       "    }\n",
       "</style>\n",
       "<table border=\"1\" class=\"dataframe\">\n",
       "  <thead>\n",
       "    <tr style=\"text-align: right;\">\n",
       "      <th></th>\n",
       "      <th>Category</th>\n",
       "      <th>Message</th>\n",
       "    </tr>\n",
       "  </thead>\n",
       "  <tbody>\n",
       "    <tr>\n",
       "      <th>count</th>\n",
       "      <td>5572</td>\n",
       "      <td>5572</td>\n",
       "    </tr>\n",
       "    <tr>\n",
       "      <th>unique</th>\n",
       "      <td>2</td>\n",
       "      <td>5157</td>\n",
       "    </tr>\n",
       "    <tr>\n",
       "      <th>top</th>\n",
       "      <td>ham</td>\n",
       "      <td>Sorry, I'll call later</td>\n",
       "    </tr>\n",
       "    <tr>\n",
       "      <th>freq</th>\n",
       "      <td>4825</td>\n",
       "      <td>30</td>\n",
       "    </tr>\n",
       "  </tbody>\n",
       "</table>\n",
       "</div>"
      ],
      "text/plain": [
       "       Category                 Message\n",
       "count      5572                    5572\n",
       "unique        2                    5157\n",
       "top         ham  Sorry, I'll call later\n",
       "freq       4825                      30"
      ]
     },
     "execution_count": 195,
     "metadata": {},
     "output_type": "execute_result"
    }
   ],
   "source": [
    "df.describe()"
   ]
  },
  {
   "cell_type": "code",
   "execution_count": 196,
   "id": "9b5f4380-859f-4dc2-8811-d1c587a62b30",
   "metadata": {},
   "outputs": [
    {
     "data": {
      "text/html": [
       "<div>\n",
       "<style scoped>\n",
       "    .dataframe tbody tr th:only-of-type {\n",
       "        vertical-align: middle;\n",
       "    }\n",
       "\n",
       "    .dataframe tbody tr th {\n",
       "        vertical-align: top;\n",
       "    }\n",
       "\n",
       "    .dataframe thead th {\n",
       "        text-align: right;\n",
       "    }\n",
       "</style>\n",
       "<table border=\"1\" class=\"dataframe\">\n",
       "  <thead>\n",
       "    <tr style=\"text-align: right;\">\n",
       "      <th></th>\n",
       "      <th>Category</th>\n",
       "      <th>Message</th>\n",
       "      <th>Category_n</th>\n",
       "    </tr>\n",
       "  </thead>\n",
       "  <tbody>\n",
       "    <tr>\n",
       "      <th>0</th>\n",
       "      <td>ham</td>\n",
       "      <td>Go until jurong point, crazy.. Available only ...</td>\n",
       "      <td>0</td>\n",
       "    </tr>\n",
       "    <tr>\n",
       "      <th>1</th>\n",
       "      <td>ham</td>\n",
       "      <td>Ok lar... Joking wif u oni...</td>\n",
       "      <td>0</td>\n",
       "    </tr>\n",
       "    <tr>\n",
       "      <th>2</th>\n",
       "      <td>spam</td>\n",
       "      <td>Free entry in 2 a wkly comp to win FA Cup fina...</td>\n",
       "      <td>1</td>\n",
       "    </tr>\n",
       "    <tr>\n",
       "      <th>3</th>\n",
       "      <td>ham</td>\n",
       "      <td>U dun say so early hor... U c already then say...</td>\n",
       "      <td>0</td>\n",
       "    </tr>\n",
       "    <tr>\n",
       "      <th>4</th>\n",
       "      <td>ham</td>\n",
       "      <td>Nah I don't think he goes to usf, he lives aro...</td>\n",
       "      <td>0</td>\n",
       "    </tr>\n",
       "    <tr>\n",
       "      <th>...</th>\n",
       "      <td>...</td>\n",
       "      <td>...</td>\n",
       "      <td>...</td>\n",
       "    </tr>\n",
       "    <tr>\n",
       "      <th>5567</th>\n",
       "      <td>spam</td>\n",
       "      <td>This is the 2nd time we have tried 2 contact u...</td>\n",
       "      <td>1</td>\n",
       "    </tr>\n",
       "    <tr>\n",
       "      <th>5568</th>\n",
       "      <td>ham</td>\n",
       "      <td>Will ü b going to esplanade fr home?</td>\n",
       "      <td>0</td>\n",
       "    </tr>\n",
       "    <tr>\n",
       "      <th>5569</th>\n",
       "      <td>ham</td>\n",
       "      <td>Pity, * was in mood for that. So...any other s...</td>\n",
       "      <td>0</td>\n",
       "    </tr>\n",
       "    <tr>\n",
       "      <th>5570</th>\n",
       "      <td>ham</td>\n",
       "      <td>The guy did some bitching but I acted like i'd...</td>\n",
       "      <td>0</td>\n",
       "    </tr>\n",
       "    <tr>\n",
       "      <th>5571</th>\n",
       "      <td>ham</td>\n",
       "      <td>Rofl. Its true to its name</td>\n",
       "      <td>0</td>\n",
       "    </tr>\n",
       "  </tbody>\n",
       "</table>\n",
       "<p>5572 rows × 3 columns</p>\n",
       "</div>"
      ],
      "text/plain": [
       "     Category                                            Message  Category_n\n",
       "0         ham  Go until jurong point, crazy.. Available only ...           0\n",
       "1         ham                      Ok lar... Joking wif u oni...           0\n",
       "2        spam  Free entry in 2 a wkly comp to win FA Cup fina...           1\n",
       "3         ham  U dun say so early hor... U c already then say...           0\n",
       "4         ham  Nah I don't think he goes to usf, he lives aro...           0\n",
       "...       ...                                                ...         ...\n",
       "5567     spam  This is the 2nd time we have tried 2 contact u...           1\n",
       "5568      ham               Will ü b going to esplanade fr home?           0\n",
       "5569      ham  Pity, * was in mood for that. So...any other s...           0\n",
       "5570      ham  The guy did some bitching but I acted like i'd...           0\n",
       "5571      ham                         Rofl. Its true to its name           0\n",
       "\n",
       "[5572 rows x 3 columns]"
      ]
     },
     "execution_count": 196,
     "metadata": {},
     "output_type": "execute_result"
    }
   ],
   "source": [
    "#Convert Labels and creating new column. Spam = 1, Ham = 0\n",
    "df['Category_n'] = df.Category.apply(lambda x: 0 if x == 'ham' else 1)\n",
    "df"
   ]
  },
  {
   "cell_type": "code",
   "execution_count": 197,
   "id": "d59d0952-6851-49de-bf88-19717171debe",
   "metadata": {},
   "outputs": [
    {
     "data": {
      "text/plain": [
       "1978    Reply to win £100 weekly! Where will the 2006 ...\n",
       "3989    Hello. Sort of out in town already. That . So ...\n",
       "3935     How come guoyang go n tell her? Then u told her?\n",
       "4078    Hey sathya till now we dint meet not even a si...\n",
       "4086    Orange brings you ringtones from all time Char...\n",
       "                              ...                        \n",
       "3772    Hi, wlcome back, did wonder if you got eaten b...\n",
       "5191                               Sorry, I'll call later\n",
       "5226        Prabha..i'm soryda..realy..frm heart i'm sory\n",
       "5390                           Nt joking seriously i told\n",
       "860               Did he just say somebody is named tampa\n",
       "Name: Message, Length: 4457, dtype: object"
      ]
     },
     "execution_count": 197,
     "metadata": {},
     "output_type": "execute_result"
    }
   ],
   "source": [
    "from sklearn.model_selection import train_test_split\n",
    "X = df.Message\n",
    "y = df.Category_n\n",
    "\n",
    "X_train, X_test, y_train, y_test = train_test_split(X, y, test_size=0.2, random_state=42)\n",
    "X_train"
   ]
  },
  {
   "cell_type": "code",
   "execution_count": 198,
   "id": "27afa987-7013-4714-af9c-fc343efc02b4",
   "metadata": {},
   "outputs": [],
   "source": [
    "import tensorflow as tf\n",
    "from tensorflow.keras.layers import TextVectorization, Embedding, Dense, Dropout\n",
    "from tensorflow.keras.models import Sequential\n",
    "from tensorflow.keras.optimizers import Adam\n",
    "\n",
    "vocab_size = 10000\n",
    "max_length = 100\n",
    "embedding_dim = 16\n",
    "\n",
    "vectorize_layer = TextVectorization(\n",
    "        max_tokens=vocab_size,\n",
    "        output_mode='int',\n",
    "        output_sequence_length=max_length\n",
    ")"
   ]
  },
  {
   "cell_type": "code",
   "execution_count": 203,
   "id": "8697d6b4-1839-47b7-8833-3e629538e87c",
   "metadata": {},
   "outputs": [],
   "source": [
    "# Neural network model using sigmoid as the output layer and binary_crossentropy and the loss function\n",
    "embedding_dim = 16\n",
    "model_bc = Sequential([\n",
    "    vectorize_layer,  # Converts text to sequence of token indices\n",
    "    Embedding(vocab_size, embedding_dim), \n",
    "    tf.keras.layers.GlobalAveragePooling1D(),\n",
    "    Dropout(0.2),\n",
    "    Dense(16, activation='relu'),\n",
    "    Dense(1, activation='sigmoid')\n",
    "])\n",
    "\n",
    "# Compile the model\n",
    "model_bc.compile(optimizer=Adam(),\n",
    "              loss='binary_crossentropy',\n",
    "              metrics=[\n",
    "                  'accuracy',\n",
    "                  tf.keras.metrics.Precision(name='precision'),\n",
    "                  tf.keras.metrics.Recall(name='recall'),\n",
    "                  tf.keras.metrics.AUC(name='auc')\n",
    "              ])"
   ]
  },
  {
   "cell_type": "code",
   "execution_count": 200,
   "id": "cc9b5966-c633-4ca7-b6e7-1b4c3a4a53a9",
   "metadata": {},
   "outputs": [],
   "source": [
    "# Neural network model using sigmoid as the output layer and mean squared error (mse) and the loss function\n",
    "embedding_dim = 16\n",
    "model_mse = Sequential([\n",
    "    vectorize_layer,  # Converts text to sequence of token indices\n",
    "    Embedding(vocab_size, embedding_dim), \n",
    "    tf.keras.layers.GlobalAveragePooling1D(),\n",
    "    Dropout(0.2),\n",
    "    Dense(16, activation='relu'),\n",
    "    Dense(1, activation='sigmoid')\n",
    "])\n",
    "\n",
    "# Compile the model\n",
    "model_mse.compile(optimizer=Adam(),\n",
    "              loss='mean_squared_error',\n",
    "              metrics=[\n",
    "                  'accuracy',\n",
    "                  tf.keras.metrics.Precision(name='precision'),\n",
    "                  tf.keras.metrics.Recall(name='recall'),\n",
    "                  tf.keras.metrics.AUC(name='auc')\n",
    "              ])"
   ]
  },
  {
   "cell_type": "code",
   "execution_count": 205,
   "id": "be5d50ca-e452-4f51-8d5b-445174c2464d",
   "metadata": {},
   "outputs": [
    {
     "name": "stdout",
     "output_type": "stream",
     "text": [
      "Epoch 1/10\n",
      "\u001b[1m126/126\u001b[0m \u001b[32m━━━━━━━━━━━━━━━━━━━━\u001b[0m\u001b[37m\u001b[0m \u001b[1m0s\u001b[0m 3ms/step - accuracy: 0.9748 - auc: 0.9889 - loss: 0.0855 - precision: 0.9782 - recall: 0.8354 - val_accuracy: 0.9664 - val_auc: 0.9809 - val_loss: 0.1015 - val_precision: 0.9821 - val_recall: 0.7971\n",
      "Epoch 2/10\n",
      "\u001b[1m126/126\u001b[0m \u001b[32m━━━━━━━━━━━━━━━━━━━━\u001b[0m\u001b[37m\u001b[0m \u001b[1m0s\u001b[0m 2ms/step - accuracy: 0.9794 - auc: 0.9874 - loss: 0.0762 - precision: 0.9876 - recall: 0.8474 - val_accuracy: 0.9731 - val_auc: 0.9799 - val_loss: 0.0948 - val_precision: 0.9524 - val_recall: 0.8696\n",
      "Epoch 3/10\n",
      "\u001b[1m126/126\u001b[0m \u001b[32m━━━━━━━━━━━━━━━━━━━━\u001b[0m\u001b[37m\u001b[0m \u001b[1m0s\u001b[0m 2ms/step - accuracy: 0.9826 - auc: 0.9873 - loss: 0.0668 - precision: 0.9767 - recall: 0.8833 - val_accuracy: 0.9686 - val_auc: 0.9823 - val_loss: 0.0899 - val_precision: 0.9661 - val_recall: 0.8261\n",
      "Epoch 4/10\n",
      "\u001b[1m126/126\u001b[0m \u001b[32m━━━━━━━━━━━━━━━━━━━━\u001b[0m\u001b[37m\u001b[0m \u001b[1m0s\u001b[0m 2ms/step - accuracy: 0.9878 - auc: 0.9877 - loss: 0.0477 - precision: 0.9734 - recall: 0.9140 - val_accuracy: 0.9753 - val_auc: 0.9805 - val_loss: 0.0871 - val_precision: 0.9531 - val_recall: 0.8841\n",
      "Epoch 5/10\n",
      "\u001b[1m126/126\u001b[0m \u001b[32m━━━━━━━━━━━━━━━━━━━━\u001b[0m\u001b[37m\u001b[0m \u001b[1m0s\u001b[0m 2ms/step - accuracy: 0.9865 - auc: 0.9926 - loss: 0.0465 - precision: 0.9913 - recall: 0.9004 - val_accuracy: 0.9709 - val_auc: 0.9826 - val_loss: 0.0870 - val_precision: 0.9667 - val_recall: 0.8406\n",
      "Epoch 6/10\n",
      "\u001b[1m126/126\u001b[0m \u001b[32m━━━━━━━━━━━━━━━━━━━━\u001b[0m\u001b[37m\u001b[0m \u001b[1m0s\u001b[0m 2ms/step - accuracy: 0.9847 - auc: 0.9945 - loss: 0.0506 - precision: 0.9849 - recall: 0.8985 - val_accuracy: 0.9686 - val_auc: 0.9849 - val_loss: 0.0971 - val_precision: 0.9825 - val_recall: 0.8116\n",
      "Epoch 7/10\n",
      "\u001b[1m126/126\u001b[0m \u001b[32m━━━━━━━━━━━━━━━━━━━━\u001b[0m\u001b[37m\u001b[0m \u001b[1m0s\u001b[0m 2ms/step - accuracy: 0.9878 - auc: 0.9929 - loss: 0.0440 - precision: 0.9868 - recall: 0.9162 - val_accuracy: 0.9731 - val_auc: 0.9828 - val_loss: 0.0836 - val_precision: 0.9672 - val_recall: 0.8551\n",
      "Epoch 8/10\n",
      "\u001b[1m126/126\u001b[0m \u001b[32m━━━━━━━━━━━━━━━━━━━━\u001b[0m\u001b[37m\u001b[0m \u001b[1m0s\u001b[0m 2ms/step - accuracy: 0.9912 - auc: 0.9955 - loss: 0.0389 - precision: 0.9960 - recall: 0.9359 - val_accuracy: 0.9731 - val_auc: 0.9846 - val_loss: 0.0905 - val_precision: 0.9672 - val_recall: 0.8551\n",
      "Epoch 9/10\n",
      "\u001b[1m126/126\u001b[0m \u001b[32m━━━━━━━━━━━━━━━━━━━━\u001b[0m\u001b[37m\u001b[0m \u001b[1m0s\u001b[0m 2ms/step - accuracy: 0.9920 - auc: 0.9976 - loss: 0.0303 - precision: 0.9979 - recall: 0.9419 - val_accuracy: 0.9731 - val_auc: 0.9847 - val_loss: 0.0892 - val_precision: 0.9672 - val_recall: 0.8551\n",
      "Epoch 10/10\n",
      "\u001b[1m126/126\u001b[0m \u001b[32m━━━━━━━━━━━━━━━━━━━━\u001b[0m\u001b[37m\u001b[0m \u001b[1m0s\u001b[0m 2ms/step - accuracy: 0.9923 - auc: 0.9967 - loss: 0.0323 - precision: 0.9969 - recall: 0.9475 - val_accuracy: 0.9731 - val_auc: 0.9841 - val_loss: 0.0867 - val_precision: 0.9672 - val_recall: 0.8551\n",
      "\u001b[1m35/35\u001b[0m \u001b[32m━━━━━━━━━━━━━━━━━━━━\u001b[0m\u001b[37m\u001b[0m \u001b[1m0s\u001b[0m 1ms/step - accuracy: 0.9853 - auc: 0.9739 - loss: 0.0630 - precision: 0.9676 - recall: 0.9117 \n",
      "Using the sigmoid activation function and loss = binary cross entropy: \n",
      "Accuracy: 0.9838564991950989\n",
      "Precision: 0.9645389914512634\n",
      "Recall: 0.9127516746520996\n",
      "F-score: 0.9379310253981886\n"
     ]
    }
   ],
   "source": [
    "#Train and evaluate the model for sigmoid activation with binary cross entropy\n",
    "vectorize_layer.adapt(X_train)\n",
    "\n",
    "model_bc.fit(x=X_train, y=y_train, epochs=10, validation_split=0.1)\n",
    "loss_bc, accuracy_bc, precision_bc, recall_bc, _ = model_bc.evaluate(x=X_test, y=y_test)\n",
    "f_score_bc = 2 * ((precision_bc*recall_bc)/(precision_bc+recall_bc))\n",
    "\n",
    "print(\"Using the sigmoid activation function and loss = binary cross entropy: \")\n",
    "print(f\"Accuracy: {accuracy_bc}\")\n",
    "print(f\"Precision: {precision_bc}\")\n",
    "print(f\"Recall: {recall_bc}\")\n",
    "print(f\"F-score: {f_score_bc}\")"
   ]
  },
  {
   "cell_type": "code",
   "execution_count": 206,
   "id": "42df240a-0972-4f03-a5a2-69fd5061e5fb",
   "metadata": {},
   "outputs": [
    {
     "name": "stdout",
     "output_type": "stream",
     "text": [
      "Epoch 1/10\n",
      "\u001b[1m112/112\u001b[0m \u001b[32m━━━━━━━━━━━━━━━━━━━━\u001b[0m\u001b[37m\u001b[0m \u001b[1m0s\u001b[0m 3ms/step - accuracy: 0.9775 - auc: 0.9913 - loss: 0.0215 - precision: 0.9860 - recall: 0.8498 - val_accuracy: 0.9697 - val_auc: 0.9789 - val_loss: 0.0253 - val_precision: 0.9808 - val_recall: 0.8031\n",
      "Epoch 2/10\n",
      "\u001b[1m112/112\u001b[0m \u001b[32m━━━━━━━━━━━━━━━━━━━━\u001b[0m\u001b[37m\u001b[0m \u001b[1m0s\u001b[0m 3ms/step - accuracy: 0.9810 - auc: 0.9919 - loss: 0.0178 - precision: 0.9850 - recall: 0.8698 - val_accuracy: 0.9697 - val_auc: 0.9800 - val_loss: 0.0249 - val_precision: 0.9808 - val_recall: 0.8031\n",
      "Epoch 3/10\n",
      "\u001b[1m112/112\u001b[0m \u001b[32m━━━━━━━━━━━━━━━━━━━━\u001b[0m\u001b[37m\u001b[0m \u001b[1m0s\u001b[0m 2ms/step - accuracy: 0.9836 - auc: 0.9920 - loss: 0.0150 - precision: 0.9867 - recall: 0.8801 - val_accuracy: 0.9720 - val_auc: 0.9796 - val_loss: 0.0230 - val_precision: 0.9811 - val_recall: 0.8189\n",
      "Epoch 4/10\n",
      "\u001b[1m112/112\u001b[0m \u001b[32m━━━━━━━━━━━━━━━━━━━━\u001b[0m\u001b[37m\u001b[0m \u001b[1m0s\u001b[0m 2ms/step - accuracy: 0.9883 - auc: 0.9959 - loss: 0.0129 - precision: 0.9828 - recall: 0.9279 - val_accuracy: 0.9608 - val_auc: 0.9788 - val_loss: 0.0284 - val_precision: 0.9792 - val_recall: 0.7402\n",
      "Epoch 5/10\n",
      "\u001b[1m112/112\u001b[0m \u001b[32m━━━━━━━━━━━━━━━━━━━━\u001b[0m\u001b[37m\u001b[0m \u001b[1m0s\u001b[0m 2ms/step - accuracy: 0.9875 - auc: 0.9950 - loss: 0.0123 - precision: 0.9941 - recall: 0.9039 - val_accuracy: 0.9742 - val_auc: 0.9812 - val_loss: 0.0199 - val_precision: 0.9727 - val_recall: 0.8425\n",
      "Epoch 6/10\n",
      "\u001b[1m112/112\u001b[0m \u001b[32m━━━━━━━━━━━━━━━━━━━━\u001b[0m\u001b[37m\u001b[0m \u001b[1m0s\u001b[0m 2ms/step - accuracy: 0.9867 - auc: 0.9962 - loss: 0.0115 - precision: 0.9917 - recall: 0.9133 - val_accuracy: 0.9742 - val_auc: 0.9800 - val_loss: 0.0213 - val_precision: 0.9815 - val_recall: 0.8346\n",
      "Epoch 7/10\n",
      "\u001b[1m112/112\u001b[0m \u001b[32m━━━━━━━━━━━━━━━━━━━━\u001b[0m\u001b[37m\u001b[0m \u001b[1m0s\u001b[0m 2ms/step - accuracy: 0.9870 - auc: 0.9930 - loss: 0.0117 - precision: 0.9978 - recall: 0.9074 - val_accuracy: 0.9742 - val_auc: 0.9809 - val_loss: 0.0210 - val_precision: 0.9815 - val_recall: 0.8346\n",
      "Epoch 8/10\n",
      "\u001b[1m112/112\u001b[0m \u001b[32m━━━━━━━━━━━━━━━━━━━━\u001b[0m\u001b[37m\u001b[0m \u001b[1m0s\u001b[0m 3ms/step - accuracy: 0.9884 - auc: 0.9910 - loss: 0.0107 - precision: 0.9972 - recall: 0.9136 - val_accuracy: 0.9776 - val_auc: 0.9805 - val_loss: 0.0186 - val_precision: 0.9735 - val_recall: 0.8661\n",
      "Epoch 9/10\n",
      "\u001b[1m112/112\u001b[0m \u001b[32m━━━━━━━━━━━━━━━━━━━━\u001b[0m\u001b[37m\u001b[0m \u001b[1m0s\u001b[0m 2ms/step - accuracy: 0.9894 - auc: 0.9949 - loss: 0.0101 - precision: 0.9892 - recall: 0.9356 - val_accuracy: 0.9776 - val_auc: 0.9804 - val_loss: 0.0179 - val_precision: 0.9652 - val_recall: 0.8740\n",
      "Epoch 10/10\n",
      "\u001b[1m112/112\u001b[0m \u001b[32m━━━━━━━━━━━━━━━━━━━━\u001b[0m\u001b[37m\u001b[0m \u001b[1m0s\u001b[0m 2ms/step - accuracy: 0.9937 - auc: 0.9975 - loss: 0.0072 - precision: 0.9977 - recall: 0.9527 - val_accuracy: 0.9776 - val_auc: 0.9805 - val_loss: 0.0179 - val_precision: 0.9573 - val_recall: 0.8819\n",
      "\u001b[1m35/35\u001b[0m \u001b[32m━━━━━━━━━━━━━━━━━━━━\u001b[0m\u001b[37m\u001b[0m \u001b[1m0s\u001b[0m 1ms/step - accuracy: 0.9855 - auc: 0.9771 - loss: 0.0158 - precision: 0.9677 - recall: 0.9134 \n",
      "Using the sigmoid activation function and loss = mean squared error: \n",
      "Accuracy: 0.9847533702850342\n",
      "Precision: 0.9647887349128723\n",
      "Recall: 0.9194630980491638\n",
      "F-score: 0.9415807628765046\n"
     ]
    }
   ],
   "source": [
    "#Train and evaluate the model using loss = mse\n",
    "vectorize_layer.adapt(X_train)\n",
    "\n",
    "model_mse.fit(x=X_train, y=y_train, epochs=10, validation_split=0.2)\n",
    "loss_mse, accuracy_mse, precision_mse, recall_mse, _ = model_mse.evaluate(x=X_test, y=y_test)\n",
    "f_score_mse = 2 * ((precision_mse*recall_mse)/(precision_mse+recall_mse))\n",
    "\n",
    "print(\"Using the sigmoid activation function and loss = mean squared error: \")\n",
    "print(f\"Accuracy: {accuracy_mse}\")\n",
    "print(f\"Precision: {precision_mse}\")\n",
    "print(f\"Recall: {recall_mse}\")\n",
    "print(f\"F-score: {f_score_mse}\")"
   ]
  },
  {
   "cell_type": "code",
   "execution_count": 207,
   "id": "596897a3-a928-468e-a5db-12a8b1842d26",
   "metadata": {},
   "outputs": [
    {
     "name": "stdout",
     "output_type": "stream",
     "text": [
      "\u001b[1m35/35\u001b[0m \u001b[32m━━━━━━━━━━━━━━━━━━━━\u001b[0m\u001b[37m\u001b[0m \u001b[1m0s\u001b[0m 5ms/step\n"
     ]
    },
    {
     "data": {
      "text/plain": [
       "array([[0],\n",
       "       [0],\n",
       "       [0],\n",
       "       ...,\n",
       "       [0],\n",
       "       [0],\n",
       "       [0]])"
      ]
     },
     "execution_count": 207,
     "metadata": {},
     "output_type": "execute_result"
    }
   ],
   "source": [
    "#Using loss = binary_cross_entropy\n",
    "\n",
    "from sklearn.metrics import accuracy_score, precision_score, recall_score, f1_score\n",
    "\n",
    "y_prediction_probability = model_bc.predict(X_test)\n",
    "y_prediction_bc = (y_prediction_probability >= 0.5).astype(int)\n",
    "y_prediction_bc"
   ]
  },
  {
   "cell_type": "code",
   "execution_count": 208,
   "id": "afd1e932-1861-467a-99d7-a349f206b5d7",
   "metadata": {},
   "outputs": [
    {
     "name": "stdout",
     "output_type": "stream",
     "text": [
      "loss = binary_crossentropy\n"
     ]
    },
    {
     "data": {
      "text/plain": [
       "Text(45.722222222222214, 0.5, 'Truth')"
      ]
     },
     "execution_count": 208,
     "metadata": {},
     "output_type": "execute_result"
    },
    {
     "data": {
      "image/png": "[encoded data removed]",
      "text/plain": [
       "<Figure size 600x300 with 2 Axes>"
      ]
     },
     "metadata": {},
     "output_type": "display_data"
    }
   ],
   "source": [
    "import seaborn as sn\n",
    "import matplotlib.pyplot as plt\n",
    "from sklearn.metrics import confusion_matrix\n",
    "\n",
    "cm = confusion_matrix(y_test, y_prediction_bc)\n",
    "print('loss = binary_crossentropy')\n",
    "plt.figure(figsize = (6,3))\n",
    "sn.heatmap(cm, annot=True, fmt='d')\n",
    "plt.xlabel(\"Prediction\")\n",
    "plt.ylabel(\"Truth\")"
   ]
  },
  {
   "cell_type": "code",
   "execution_count": 209,
   "id": "b753d1a0-e4c8-4feb-a55b-11117ef3e25d",
   "metadata": {},
   "outputs": [
    {
     "name": "stdout",
     "output_type": "stream",
     "text": [
      "\u001b[1m35/35\u001b[0m \u001b[32m━━━━━━━━━━━━━━━━━━━━\u001b[0m\u001b[37m\u001b[0m \u001b[1m0s\u001b[0m 5ms/step\n"
     ]
    },
    {
     "data": {
      "text/plain": [
       "array([[0],\n",
       "       [0],\n",
       "       [0],\n",
       "       ...,\n",
       "       [0],\n",
       "       [0],\n",
       "       [0]])"
      ]
     },
     "execution_count": 209,
     "metadata": {},
     "output_type": "execute_result"
    }
   ],
   "source": [
    "#Using loss = mean_squared_error\n",
    "\n",
    "y_prediction_probability = model_mse.predict(X_test)\n",
    "y_prediction_mse = (y_prediction_probability >= 0.5).astype(int) \n",
    "y_prediction_mse"
   ]
  },
  {
   "cell_type": "code",
   "execution_count": 210,
   "id": "16853c95-6311-419c-9bae-d1735d94f5f1",
   "metadata": {},
   "outputs": [
    {
     "name": "stdout",
     "output_type": "stream",
     "text": [
      "loss = mse\n"
     ]
    },
    {
     "data": {
      "text/plain": [
       "Text(45.722222222222214, 0.5, 'Truth')"
      ]
     },
     "execution_count": 210,
     "metadata": {},
     "output_type": "execute_result"
    },
    {
     "data": {
      "image/png": "[encoded data removed]",
      "text/plain": [
       "<Figure size 600x300 with 2 Axes>"
      ]
     },
     "metadata": {},
     "output_type": "display_data"
    }
   ],
   "source": [
    "cm = confusion_matrix(y_test, y_prediction_mse)\n",
    "print('loss = mse')\n",
    "plt.figure(figsize = (6,3))\n",
    "sn.heatmap(cm, annot=True, fmt='d')\n",
    "plt.xlabel(\"Prediction\")\n",
    "plt.ylabel(\"Truth\")"
   ]
  },
  {
   "cell_type": "code",
   "execution_count": null,
   "id": "b24cbf35-3199-4ae9-a278-3ffa022bfd04",
   "metadata": {},
   "outputs": [],
   "source": []
  }
 ],
 "metadata": {
  "kernelspec": {
   "display_name": "Python 3 (ipykernel)",
   "language": "python",
   "name": "python3"
  },
  "language_info": {
   "codemirror_mode": {
    "name": "ipython",
    "version": 3
   },
   "file_extension": ".py",
   "mimetype": "text/x-python",
   "name": "python",
   "nbconvert_exporter": "python",
   "pygments_lexer": "ipython3",
   "version": "3.9.19"
  }
 },
 "nbformat": 4,
 "nbformat_minor": 5
}
